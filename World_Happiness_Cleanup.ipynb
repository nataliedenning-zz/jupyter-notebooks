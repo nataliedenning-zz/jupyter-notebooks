{
 "cells": [
  {
   "cell_type": "markdown",
   "metadata": {},
   "source": [
    "## Cleaning Up Lots of Data\n",
    "\n",
    "In a previous notebook regarding the data from the World Happiness Report, I cleaned up data - added rows, imputed values - for a single region, only 9 countries. It wasn't challenging, although it was time consuming. If I had done this for multiple regions, or the entire dataset, it would get pretty redundant. Can I simplify the process?\n",
    "\n",
    "In the time since I started playing with the data, researchers released the [https://worldhappiness.report/ed/2019/](2019 World Happiness Report). Hooray! More data to play with! So, the data I'm using here is similar, but not the same, as my other notebooks.\n",
    "\n",
    "Why am I still working with this data? Well, I've been playing around with Tableau recently, and I need a good dataset to visualize. I really like this data, so I need to clean it all up so that I can visualize it better.\n",
    "\n",
    "[Note: If you want to see my visualizations, check them out [on Tableau Public](https://public.tableau.com/profile/natalie.denning#!/vizhome/NEW-global-happiness/WorldHappinessReport)!]\n",
    "\n",
    "### The Process\n",
    "\n",
    "Well, what do I need to do to turn this into good, clean data?\n",
    "\n",
    "- Remove unwanted columns and rows from year 2005\n",
    "- Create new df for a single country\n",
    "- Find whether country is missing rows/years\n",
    "- Add blank rows corresponding to missing years\n",
    "- Sort rows by year\n",
    "- Interpolate, ffill, bfill\n",
    "- Smash back together."
   ]
  },
  {
   "cell_type": "code",
   "execution_count": 1,
   "metadata": {},
   "outputs": [],
   "source": [
    "import pandas as pd\n",
    "import numpy as np"
   ]
  },
  {
   "cell_type": "code",
   "execution_count": 6,
   "metadata": {},
   "outputs": [],
   "source": [
    "happy = pd.read_excel('world-happiness-2019.xls')"
   ]
  },
  {
   "cell_type": "code",
   "execution_count": 7,
   "metadata": {},
   "outputs": [],
   "source": [
    "# Which columns do I want to keep?\n",
    "\n",
    "columns_to_keep = ['country', 'year', 'Life Ladder',\n",
    "       'Log GDP per capita', 'Social support',\n",
    "       'Healthy life expectancy at birth', 'Freedom to make life choices',\n",
    "       'Generosity', 'Perceptions of corruption', 'Positive affect',\n",
    "       'Negative affect', 'Confidence in national government',\n",
    "       'Democratic Quality', 'Delivery Quality']"
   ]
  },
  {
   "cell_type": "code",
   "execution_count": 22,
   "metadata": {},
   "outputs": [],
   "source": [
    "# Remove rows from the year 2005, remove unwanted columns\n",
    "\n",
    "happy_2 = happy[happy['year'] != 2005].filter(columns_to_keep)"
   ]
  },
  {
   "cell_type": "code",
   "execution_count": 11,
   "metadata": {},
   "outputs": [],
   "source": [
    "# Fill missing values with interpolate, bfill, and ffill\n",
    "# Interpolate is capped at 3 - if more than 3 null values in neighboring years, just return nulls\n",
    "\n",
    "def fill_missing_values(df):\n",
    "    filled_df = df.sort_values('year').interpolate(limit=3).fillna(method='bfill').fillna(method='ffill').reset_index().drop('index', axis=1)\n",
    "    return filled_df"
   ]
  },
  {
   "cell_type": "code",
   "execution_count": 17,
   "metadata": {},
   "outputs": [],
   "source": [
    "# Fill missing data (rows and values) for single-country df\n",
    "\n",
    "def filled_df_single(df):\n",
    "    \n",
    "    # If all 12 years/rows present for country..\n",
    "    if len(df['year']) == 12: \n",
    "        # Fill missing values only\n",
    "        return fill_missing_values(df)\n",
    "    \n",
    "    # If fewer than 6 rows..\n",
    "    elif len(df['year']) < 6:\n",
    "        # Don't add new rows; fill null values only\n",
    "        return fill_missing_values(df)\n",
    "    \n",
    "    # If country has 6-11 rows in df...\n",
    "    else:\n",
    "        # Find missing years/rows\n",
    "        a = df['year'].astype(int).tolist()\n",
    "        b = [x for x in range(2006, 2019)]\n",
    "        a = set(a)\n",
    "        missing_years = list((a^set(b)))\n",
    "        \n",
    "        # Add new rows, fill with null values\n",
    "        for num in range(len(missing_years)):\n",
    "            df.loc[df.index.max() + 1 + num] = np.nan\n",
    "        \n",
    "        # Add country name to new rows\n",
    "        country_name = df['country'][0]\n",
    "        df['country'] = country_name\n",
    "        \n",
    "        # Get indices for null rows\n",
    "        new_series = df['year'].apply(lambda x: x != x)\n",
    "        null_indices = list(new_series[new_series == True].index)\n",
    "        \n",
    "        # Fillna with missing years at null indices\n",
    "        replacement_tuples = list(zip(null_indices, missing_years))\n",
    "        replacement_dict = dict(replacement_tuples)\n",
    "        df['year'].fillna(value = replacement_dict, inplace=True)\n",
    "        \n",
    "        # Fill missing values\n",
    "        return fill_missing_values(df)"
   ]
  },
  {
   "cell_type": "code",
   "execution_count": 14,
   "metadata": {},
   "outputs": [],
   "source": [
    "# Function for multi-country df\n",
    "# Split off country, run through function, append to new dataframe\n",
    "\n",
    "def filled_df_multi(df):\n",
    "    # Empty list to append finished dfs\n",
    "    df_list = []\n",
    "\n",
    "    for country in df['country'].unique():\n",
    "        \n",
    "        # If there's only one row, this will return a Series instead of a df\n",
    "        if 'year' in df.set_index('country').loc[country].index:\n",
    "            # So we need to just turn it into a single-row df before adding it to empty df\n",
    "            df2 = df.set_index('country').loc[country].to_frame().transpose().reset_index()\n",
    "        \n",
    "        # Otherwise, create single-country dataframe and run through function\n",
    "        else:\n",
    "            df2 = df.set_index('country').loc[country].reset_index()\n",
    "        df3 = filled_df_single(df2)\n",
    "        df_list.append(df3)\n",
    "\n",
    "        full_df = pd.concat(df_list, ignore_index=True, sort=False)\n",
    "        \n",
    "    # Don't want a new \"index\" column\n",
    "    if 'index' in full_df:\n",
    "        return full_df.drop('index', axis=1)\n",
    "    else:\n",
    "        return full_df"
   ]
  },
  {
   "cell_type": "code",
   "execution_count": 19,
   "metadata": {},
   "outputs": [],
   "source": [
    "happy_3 = filled_df_multi(happy_2)"
   ]
  },
  {
   "cell_type": "code",
   "execution_count": 15,
   "metadata": {},
   "outputs": [
    {
     "name": "stdout",
     "output_type": "stream",
     "text": [
      "<class 'pandas.core.frame.DataFrame'>\n",
      "Int64Index: 1677 entries, 0 to 1703\n",
      "Data columns (total 14 columns):\n",
      "country                              1677 non-null object\n",
      "year                                 1677 non-null int64\n",
      "Life Ladder                          1677 non-null float64\n",
      "Log GDP per capita                   1649 non-null float64\n",
      "Social support                       1664 non-null float64\n",
      "Healthy life expectancy at birth     1649 non-null float64\n",
      "Freedom to make life choices         1650 non-null float64\n",
      "Generosity                           1621 non-null float64\n",
      "Perceptions of corruption            1583 non-null float64\n",
      "Positive affect                      1659 non-null float64\n",
      "Negative affect                      1665 non-null float64\n",
      "Confidence in national government    1506 non-null float64\n",
      "Democratic Quality                   1531 non-null float64\n",
      "Delivery Quality                     1532 non-null float64\n",
      "dtypes: float64(12), int64(1), object(1)\n",
      "memory usage: 196.5+ KB\n"
     ]
    }
   ],
   "source": [
    "# Compare new df to old df\n",
    "\n",
    "happy_2.info()"
   ]
  },
  {
   "cell_type": "code",
   "execution_count": 23,
   "metadata": {},
   "outputs": [
    {
     "name": "stdout",
     "output_type": "stream",
     "text": [
      "<class 'pandas.core.frame.DataFrame'>\n",
      "RangeIndex: 1884 entries, 0 to 1883\n",
      "Data columns (total 15 columns):\n",
      "country                              1880 non-null object\n",
      "year                                 1884 non-null float64\n",
      "Life Ladder                          1884 non-null float64\n",
      "Log GDP per capita                   1864 non-null float64\n",
      "Social support                       1883 non-null float64\n",
      "Healthy life expectancy at birth     1865 non-null float64\n",
      "Freedom to make life choices         1884 non-null float64\n",
      "Generosity                           1863 non-null float64\n",
      "Perceptions of corruption            1856 non-null float64\n",
      "Positive affect                      1883 non-null float64\n",
      "Negative affect                      1884 non-null float64\n",
      "Confidence in national government    1783 non-null float64\n",
      "Democratic Quality                   1867 non-null float64\n",
      "Delivery Quality                     1867 non-null float64\n",
      "level_0                              4 non-null float64\n",
      "dtypes: float64(14), object(1)\n",
      "memory usage: 220.9+ KB\n"
     ]
    }
   ],
   "source": [
    "# Compare new df to old df\n",
    "\n",
    "happy_3.info()"
   ]
  },
  {
   "cell_type": "markdown",
   "metadata": {},
   "source": [
    "Done! This function added about 200 new rows. While not all of the null values are gone (that would have been impossible), they are significantly reduced."
   ]
  },
  {
   "cell_type": "code",
   "execution_count": 21,
   "metadata": {},
   "outputs": [],
   "source": [
    "happy_3.to_csv('2019_happiness_full.csv')"
   ]
  }
 ],
 "metadata": {
  "kernelspec": {
   "display_name": "Python 3",
   "language": "python",
   "name": "python3"
  },
  "language_info": {
   "codemirror_mode": {
    "name": "ipython",
    "version": 3
   },
   "file_extension": ".py",
   "mimetype": "text/x-python",
   "name": "python",
   "nbconvert_exporter": "python",
   "pygments_lexer": "ipython3",
   "version": "3.6.5"
  }
 },
 "nbformat": 4,
 "nbformat_minor": 2
}
